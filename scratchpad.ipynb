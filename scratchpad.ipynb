{
 "cells": [
  {
   "cell_type": "code",
   "execution_count": 2,
   "metadata": {},
   "outputs": [],
   "source": [
    "import sys\n",
    "import os\n",
    "import os.path as op\n",
    "import datetime\n",
    "from glob import glob\n",
    "import numpy as np\n",
    "import pandas as pd"
   ]
  },
  {
   "cell_type": "code",
   "execution_count": 3,
   "metadata": {},
   "outputs": [],
   "source": [
    "# Define directory paths\n",
    "PATHS = {\n",
    "    \"proj\": \"/mnt/coredata/processing/leads\",\n",
    "}\n",
    "PATHS[\"data\"] = op.join(PATHS[\"proj\"], \"data\")\n",
    "PATHS[\"freesurfer\"] = op.join(PATHS[\"data\"], \"freesurfer\")\n",
    "PATHS[\"metadata\"] = op.join(PATHS[\"proj\"], \"metadata\")\n",
    "PATHS[\"raw\"] = op.join(PATHS[\"data\"], \"raw\")\n",
    "PATHS[\"processed\"] = op.join(PATHS[\"data\"], \"processed\")"
   ]
  },
  {
   "cell_type": "code",
   "execution_count": 7,
   "metadata": {},
   "outputs": [],
   "source": [
    "def scrape_raw(raw_dir, verbose=True):\n",
    "    \"\"\"Scrape raw directory for all nifti files and parse them.\n",
    "\n",
    "    Returns a pandas DataFrame with columns:\n",
    "    - subj: subject ID\n",
    "    - scan_date: scan date (YYYY-MM-DD)\n",
    "    - scan_type: scan type (MRI modality or PET tracer)\n",
    "    - rawf: full path to the nifti file in raw\n",
    "    \"\"\"\n",
    "    raw_scans = glob(op.join(raw_dir, \"**\", \"*.nii\"), recursive=True)\n",
    "\n",
    "    output = []\n",
    "    for scanf in raw_scans:\n",
    "        subj = _get_subj(scanf)\n",
    "        scan_date = _get_scan_date(scanf)\n",
    "        scan_type = _get_scan_type(scanf)\n",
    "\n",
    "        # Check if any are None\n",
    "        output.append([subj, scan_date, scan_type, scanf])\n",
    "\n",
    "    cols = [\"subj\", \"scan_date\", \"scan_type\", \"rawf\"]\n",
    "    output = pd.DataFrame(output, columns=cols)\n",
    "\n",
    "    if verbose:\n",
    "        if len(output) == 0:\n",
    "            print(\"No scans found in raw\")\n",
    "        else:\n",
    "            print(\n",
    "                f\"Found {len(output)} scans from {output['subj'].nunique()} subjects in {raw_dir}\"\n",
    "            )\n",
    "    return output\n",
    "\n",
    "\n",
    "def _get_subj(filepath):\n",
    "    \"\"\"Return the subject ID from filepath to the recon'd nifti.\n",
    "\n",
    "    Parameters\n",
    "    ----------\n",
    "    filepath : str\n",
    "        The filepath to the reconstructed nifti.\n",
    "\n",
    "    Returns\n",
    "    -------\n",
    "    subj : str\n",
    "        The subject ID parsed from the input file basename.\n",
    "    \"\"\"\n",
    "    try:\n",
    "        subj = filepath.replace(PATHS[\"raw\"] + \"/\", \"\").split(\"/\")[1]\n",
    "        if len(subj) > 0:\n",
    "            return subj\n",
    "        else:\n",
    "            return None\n",
    "    except IndexError:\n",
    "        return None\n",
    "\n",
    "\n",
    "def _get_scan_date(filepath):\n",
    "    \"\"\"Return the scan date from filepath to the recon'd nifti.\n",
    "\n",
    "    Iterates over filepath directories from right to left until it finds\n",
    "    a filename or directory whose first 10 characters matches the date\n",
    "    format YYYY-MM-DD.\n",
    "\n",
    "    Returns None if no scan date is found, otherwise a string like\n",
    "    'YYYY-MM-DD'.\n",
    "    \"\"\"\n",
    "    for d in filepath.split(op.sep)[::-1]:\n",
    "        try:\n",
    "            acqdate = datetime.datetime.strptime(d[:10], \"%Y-%m-%d\").strftime(\n",
    "                \"%Y-%m-%d\"\n",
    "            )\n",
    "            return acqdate\n",
    "        except ValueError:\n",
    "            pass\n",
    "    return None\n",
    "\n",
    "\n",
    "def _get_scan_type(filepath, scan_type_map_file=None):\n",
    "    \"\"\"Parse the filepath and return the scan type.\"\"\"\n",
    "    if scan_type_map_file is None:\n",
    "        scan_type_map_file = op.join(\n",
    "            PATHS[\"metadata\"], \"ssheets\", \"scan_types_and_tracers.csv\"\n",
    "        )\n",
    "    scan_type_map = (\n",
    "        pd.read_csv(scan_type_map_file).set_index(\"name_in\")[\"name_out\"].to_dict()\n",
    "    )\n",
    "    basename = op.basename(filepath).lower()\n",
    "    for k, v in scan_type_map.items():\n",
    "        if k in basename:\n",
    "            return v\n",
    "    return None"
   ]
  },
  {
   "cell_type": "code",
   "execution_count": 12,
   "metadata": {},
   "outputs": [
    {
     "name": "stdout",
     "output_type": "stream",
     "text": [
      "Found 12 scans from 1 subjects in /mnt/coredata/processing/leads/data/raw\n"
     ]
    }
   ],
   "source": [
    "raw_scans = scrape_raw(PATHS[\"raw\"])\n",
    "\n",
    "# Get paths for the raw nifti files copied into the processed directory\n",
    "raw_cp_str = op.join(\n",
    "    PATHS[\"processed\"],\n",
    "    \"{subj}\",\n",
    "    \"{scan_type}_{scan_date}\",\n",
    "    \"{subj}_{scan_type}_{scan_date}.nii\",\n",
    ")\n",
    "raw_scans[\"raw_cp\"] = raw_scans.apply(\n",
    "    lambda x: raw_cp_str.format(\n",
    "        subj=x[\"subj\"], scan_type=x[\"scan_type\"], scan_date=x[\"scan_date\"]\n",
    "    ),\n",
    "    axis=1,\n",
    ")"
   ]
  },
  {
   "cell_type": "code",
   "execution_count": 16,
   "metadata": {},
   "outputs": [
    {
     "data": {
      "text/plain": [
       "'/mnt/coredata/processing/leads/data/processed/LDS0370008/FBB_2021-11-16/LDS0370008_FBB_2021-11-16.nii'"
      ]
     },
     "execution_count": 16,
     "metadata": {},
     "output_type": "execute_result"
    }
   ],
   "source": [
    "raw_scans.iloc[-1][\"raw_cp\"]"
   ]
  },
  {
   "cell_type": "code",
   "execution_count": null,
   "metadata": {},
   "outputs": [],
   "source": [
    "row = raw_scans.iloc[0]\n",
    "# .format(subj=row[\"subj\"], scan_type=row[\"scan_type\"], scan_date=row[\"scan_date\"])"
   ]
  },
  {
   "cell_type": "code",
   "execution_count": 11,
   "metadata": {},
   "outputs": [
    {
     "data": {
      "text/plain": [
       "'/mnt/coredata/processing/leads/data/processed/LDS0370008/MRI-T1_2020-10-29/LDS0370008_MRI-T1_2020-10-29.nii'"
      ]
     },
     "execution_count": 11,
     "metadata": {},
     "output_type": "execute_result"
    }
   ],
   "source": [
    "# Add processed file names to output\n",
    "processed_filenames = {\"MRI_T1\": {\"raw_cp\": op.join(\n",
    "    PATHS[\"processed\"],\n",
    "    \"{subj}\",\n",
    "    \"{scan_type}_{scan_date}\",\n",
    "    \"{subj}_{scan_type}_{scan_date}.nii\",\n",
    ")},\n",
    "\"FBB\": {\"raw_cp\": op.join("
   ]
  },
  {
   "cell_type": "code",
   "execution_count": 37,
   "metadata": {},
   "outputs": [
    {
     "data": {
      "text/plain": [
       "{'fbb': 'FBB',\n",
       " 'florbetaben': 'FBB',\n",
       " 'neuraceq': 'FBB',\n",
       " 'amyvid': 'FBP',\n",
       " 'av-45': 'FBP',\n",
       " 'av45': 'FBP',\n",
       " 'fbp': 'FBP',\n",
       " 'florbetapir': 'FBP',\n",
       " 'fdg': 'FDG',\n",
       " 'fludeoxyglucose': 'FDG',\n",
       " 'fluorodeoxyglucose': 'FDG',\n",
       " 'flutametamol': 'FLUTE',\n",
       " 'flute': 'FLUTE',\n",
       " 'av-1451': 'FTP',\n",
       " 'av1451': 'FTP',\n",
       " 'flortaucipir': 'FTP',\n",
       " 'ftp': 'FTP',\n",
       " 'tauvid': 'FTP',\n",
       " 'mk-6240': 'MK6240',\n",
       " 'mk6240': 'MK6240',\n",
       " 'ir-fspgr': 'MRI_T1',\n",
       " 'mprage': 'MRI_T1',\n",
       " 't1': 'MRI_T1',\n",
       " 'azd-4694': 'NAV',\n",
       " 'azd4694': 'NAV',\n",
       " 'flutafuranol': 'NAV',\n",
       " 'nav-4694': 'NAV',\n",
       " 'nav4694': 'NAV',\n",
       " 'pi-2620': 'PI2620',\n",
       " 'pi2620': 'PI2620',\n",
       " 'pib': 'PIB',\n",
       " 'pittsburgh compound b': 'PIB',\n",
       " 'pittsburgh compound-b': 'PIB'}"
      ]
     },
     "execution_count": 37,
     "metadata": {},
     "output_type": "execute_result"
    }
   ],
   "source": [
    "scan_type_map_file = op.join(PATHS[\"metadata\"], \"ssheets\", \"scan_types_and_tracers.csv\")\n",
    "scan_type_map = (\n",
    "    pd.read_csv(scan_type_map_file).set_index(\"name_in\")[\"name_out\"].to_dict()\n",
    ")\n",
    "scan_type_map"
   ]
  },
  {
   "cell_type": "code",
   "execution_count": 57,
   "metadata": {},
   "outputs": [
    {
     "data": {
      "text/plain": [
       "0"
      ]
     },
     "execution_count": 57,
     "metadata": {},
     "output_type": "execute_result"
    }
   ],
   "source": []
  },
  {
   "cell_type": "code",
   "execution_count": 58,
   "metadata": {},
   "outputs": [],
   "source": []
  },
  {
   "cell_type": "code",
   "execution_count": 11,
   "metadata": {},
   "outputs": [
    {
     "data": {
      "text/plain": [
       "['/mnt/coredata/processing/leads/data/newdata/mri/LDS0370008/Accelerated_Sagittal_MPRAGE/2020-10-29_10_57_25.0/I1357578/I1357578_Accelerated_Sagittal_MPRAGE_20201029105725_2.nii',\n",
       " '/mnt/coredata/processing/leads/data/newdata/mri/LDS0370008/Accelerated_Sagittal_MPRAGE/2019-09-19_08_04_52.0/I1228542/I1228542_Accelerated_Sagittal_MPRAGE_20190919080453_2.nii',\n",
       " '/mnt/coredata/processing/leads/data/newdata/mri/LDS0370008/Accelerated_Sagittal_MPRAGE/2021-11-03_09_08_21.0/I1511888/I1511888_Accelerated_Sagittal_MPRAGE_20211103090821_2.nii',\n",
       " '/mnt/coredata/processing/leads/data/newdata/mri/LDS0370008/Accelerated_Sagittal_MPRAGE/2018-08-15_11_08_29.0/I1035748/I1035748_Accelerated_Sagittal_MPRAGE_20180815110830_2.nii',\n",
       " '/mnt/coredata/processing/leads/data/newdata/ftp/LDS0370008/AV1451_Coreg,_Avg,_Std_Img_and_Vox_Siz,_Uniform_6mm_Res/2020-10-29_16_34_02.0/I1778293/I1778293_AV1451_Coreg,_Avg,_Std_Img_and_Vox_Siz,_Uniform_6mm_Res_20201029163402_5.nii',\n",
       " '/mnt/coredata/processing/leads/data/newdata/ftp/LDS0370008/AV1451_Coreg,_Avg,_Std_Img_and_Vox_Siz,_Uniform_6mm_Res/2019-10-03_16_27_01.0/I1779714/I1779714_AV1451_Coreg,_Avg,_Std_Img_and_Vox_Siz,_Uniform_6mm_Res_20191003162701_5.nii',\n",
       " '/mnt/coredata/processing/leads/data/newdata/ftp/LDS0370008/AV1451_Coreg,_Avg,_Std_Img_and_Vox_Siz,_Uniform_6mm_Res/2021-12-09_17_27_02.0/I1779044/I1779044_AV1451_Coreg,_Avg,_Std_Img_and_Vox_Siz,_Uniform_6mm_Res_20211209172701_5.nii',\n",
       " '/mnt/coredata/processing/leads/data/newdata/ftp/LDS0370008/AV1451_Coreg,_Avg,_Std_Img_and_Vox_Siz,_Uniform_6mm_Res/2018-08-27_15_34_04.0/I1777301/I1777301_AV1451_Coreg,_Avg,_Std_Img_and_Vox_Siz,_Uniform_6mm_Res_20180827153404_5.nii',\n",
       " '/mnt/coredata/processing/leads/data/newdata/fbb/LDS0370008/FBB_Coreg,_Avg,_Std_Img_and_Vox_Siz,_Uniform_6mm_Res/2018-08-15_15_15_17.0/I1778753/I1778753_FBB_Coreg,_Avg,_Std_Img_and_Vox_Siz,_Uniform_6mm_Res_20180815151517_5.nii',\n",
       " '/mnt/coredata/processing/leads/data/newdata/fbb/LDS0370008/FBB_Coreg,_Avg,_Std_Img_and_Vox_Siz,_Uniform_6mm_Res/2020-10-28_14_08_02.0/I1779399/I1779399_FBB_Coreg,_Avg,_Std_Img_and_Vox_Siz,_Uniform_6mm_Res_20201028140802_5.nii',\n",
       " '/mnt/coredata/processing/leads/data/newdata/fbb/LDS0370008/FBB_Coreg,_Avg,_Std_Img_and_Vox_Siz,_Uniform_6mm_Res/2019-09-19_14_31_02.0/I1778307/I1778307_FBB_Coreg,_Avg,_Std_Img_and_Vox_Siz,_Uniform_6mm_Res_20190919143102_5.nii',\n",
       " '/mnt/coredata/processing/leads/data/newdata/fbb/LDS0370008/FBB_Coreg,_Avg,_Std_Img_and_Vox_Siz,_Uniform_6mm_Res/2021-11-16_16_05_00.0/I1777853/I1777853_FBB_Coreg,_Avg,_Std_Img_and_Vox_Siz,_Uniform_6mm_Res_20211116160500_5.nii']"
      ]
     },
     "execution_count": 11,
     "metadata": {},
     "output_type": "execute_result"
    }
   ],
   "source": [
    "new_scans"
   ]
  }
 ],
 "metadata": {
  "kernelspec": {
   "display_name": "Python 3",
   "language": "python",
   "name": "python3"
  },
  "language_info": {
   "codemirror_mode": {
    "name": "ipython",
    "version": 3
   },
   "file_extension": ".py",
   "mimetype": "text/x-python",
   "name": "python",
   "nbconvert_exporter": "python",
   "pygments_lexer": "ipython3",
   "version": "3.10.8"
  }
 },
 "nbformat": 4,
 "nbformat_minor": 2
}
