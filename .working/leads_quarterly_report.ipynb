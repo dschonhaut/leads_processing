{
 "cells": [
  {
   "cell_type": "markdown",
   "metadata": {},
   "source": [
    "# Imports"
   ]
  },
  {
   "cell_type": "code",
   "execution_count": null,
   "metadata": {},
   "outputs": [],
   "source": [
    "import sys\n",
    "import os\n",
    "import os.path as op\n",
    "from glob import glob\n",
    "\n",
    "import matplotlib as mpl\n",
    "import matplotlib.pyplot as plt\n",
    "import numpy as np\n",
    "import pandas as pd\n",
    "import scipy.stats as stats\n",
    "import seaborn as sns\n",
    "import statsmodels.api as sm\n",
    "\n",
    "pd.options.display.max_rows = 100\n",
    "pd.options.display.max_columns = 999\n",
    "import statsmodels.api as sm\n",
    "\n",
    "sys.path.append(op.join(op.expanduser(\"~\"), \"code\", \"style\"))\n",
    "from colors import get_colors\n",
    "\n",
    "co, palettes = get_colors()\n",
    "\n",
    "from general.basic.config import get_plot_defaults, set_rcparams\n",
    "\n",
    "mpl.rcParams = set_rcparams(mpl.rcParams)\n",
    "mpl.rcParams[\"axes.grid\"] = False\n",
    "d = get_plot_defaults()\n",
    "co = d.get(\"colors\", None)\n",
    "colws = d.get(\"colws\", None)\n",
    "font = d.get(\"font\", None)\n",
    "lws = d.get(\"lws\", None)\n",
    "pad = d.get(\"pad\", None)\n",
    "palettes = d.get(\"palettes\", None)"
   ]
  },
  {
   "cell_type": "code",
   "execution_count": null,
   "metadata": {},
   "outputs": [],
   "source": []
  }
 ],
 "metadata": {
  "language_info": {
   "name": "python"
  }
 },
 "nbformat": 4,
 "nbformat_minor": 2
}
