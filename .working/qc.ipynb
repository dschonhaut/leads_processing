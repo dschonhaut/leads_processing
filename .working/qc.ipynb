{
 "cells": [
  {
   "cell_type": "code",
   "execution_count": 181,
   "metadata": {},
   "outputs": [],
   "source": [
    "import os\n",
    "import os.path as op\n",
    "import datetime\n",
    "import multiprocessing\n",
    "import re\n",
    "import shutil\n",
    "import subprocess\n",
    "import sys\n",
    "import time\n",
    "from concurrent.futures import ThreadPoolExecutor\n",
    "from glob import glob\n",
    "from importlib import reload\n",
    "\n",
    "import matplotlib as mpl\n",
    "import matplotlib.dates as mdates\n",
    "import matplotlib.pyplot as plt\n",
    "import numpy as np\n",
    "import pandas as pd\n",
    "import scipy.stats as stats\n",
    "import seaborn as sns\n",
    "import statsmodels.api as sm\n",
    "\n",
    "pd.options.display.max_rows = 100\n",
    "pd.options.display.max_columns = 999\n",
    "\n",
    "sys.path.append(op.join(op.dirname(os.getcwd()), \"qc\"))\n",
    "sys.path.append(op.join(op.dirname(os.getcwd()), \"setup\"))\n",
    "sys.path.append(op.join(op.dirname(os.getcwd()), \"utils\"))\n",
    "import utilities as uts\n",
    "\n",
    "sys.path.append(\"/home/mac/dschonhaut/code\")\n",
    "from general.basic import helper_funcs as hf\n",
    "\n",
    "sys.path.append(op.join(op.expanduser(\"~\"), \"code\", \"style\"))\n",
    "from colors import get_colors\n",
    "\n",
    "co, palettes = get_colors()\n",
    "\n",
    "from general.basic.config import get_plot_defaults, set_rcparams\n",
    "\n",
    "mpl.rcParams = set_rcparams(mpl.rcParams)\n",
    "mpl.rcParams[\"axes.grid\"] = False\n",
    "d = get_plot_defaults()\n",
    "co = d.get(\"colors\", None)\n",
    "colws = d.get(\"colws\", None)\n",
    "font = d.get(\"font\", None)\n",
    "lws = d.get(\"lws\", None)\n",
    "pad = d.get(\"pad\", None)\n",
    "palettes = d.get(\"palettes\", None)"
   ]
  },
  {
   "cell_type": "code",
   "execution_count": 29,
   "metadata": {},
   "outputs": [],
   "source": [
    "new_sys_path = []\n",
    "for d in sys.path:\n",
    "    if d and d not in new_sys_path:\n",
    "        new_sys_path.append(d)\n",
    "sys.path = new_sys_path"
   ]
  },
  {
   "cell_type": "code",
   "execution_count": 150,
   "metadata": {},
   "outputs": [
    {
     "data": {
      "text/plain": [
       "<module 'create_qc_evals' from '/mnt/coredata/processing/leads/code/qc/create_qc_evals.py'>"
      ]
     },
     "execution_count": 150,
     "metadata": {},
     "output_type": "execute_result"
    }
   ],
   "source": [
    "reload(create_qc_evals)"
   ]
  },
  {
   "cell_type": "code",
   "execution_count": 72,
   "metadata": {},
   "outputs": [],
   "source": [
    "# sys.path.append(op.join(op.dirname(os.getcwd()), \"qc\"))\n",
    "import create_qc_evals"
   ]
  },
  {
   "cell_type": "code",
   "execution_count": 5,
   "metadata": {},
   "outputs": [
    {
     "name": "stdout",
     "output_type": "stream",
     "text": [
      "MRI-T1: (1155, 10)\n",
      "FBB: (997, 10)\n",
      "FDG: (158, 9)\n",
      "FTP: (959, 10)\n"
     ]
    }
   ],
   "source": [
    "qc_dir = \"/mnt/coredata/processing/leads/metadata/qc\"\n",
    "qc_evals = {\n",
    "    \"MRI-T1\": pd.read_csv(\n",
    "        uts.glob_sort(op.join(qc_dir, \"processed_MRI-T1_qc-evals_*.csv\"))[-1]\n",
    "    ),\n",
    "    \"FBB\": pd.read_csv(\n",
    "        uts.glob_sort(op.join(qc_dir, \"processed_FBB_qc-evals_*.csv\"))[-1]\n",
    "    ),\n",
    "    \"FDG\": pd.read_csv(\n",
    "        uts.glob_sort(op.join(qc_dir, \"processed_FDG_qc-evals_*.csv\"))[-1]\n",
    "    ),\n",
    "    \"FTP\": pd.read_csv(\n",
    "        uts.glob_sort(op.join(qc_dir, \"processed_FTP_qc-evals_*.csv\"))[-1]\n",
    "    ),\n",
    "}\n",
    "\n",
    "for k, v in qc_evals.items():\n",
    "    print(f\"{k}: {v.shape}\")"
   ]
  },
  {
   "cell_type": "code",
   "execution_count": 108,
   "metadata": {},
   "outputs": [],
   "source": [
    "proc_dir = \"/mnt/coredata/processing/leads/data/processed\"\n",
    "scan_types = [\"MRI-T1\", \"FBB\", \"FDG\", \"FTP\"]\n",
    "timestamp = \"2024-07-02-00-00-00\"\n",
    "overwrite = True\n",
    "for scan_type in qc_evals:\n",
    "    for idx, row in qc_evals[scan_type].iterrows():\n",
    "        # Get the scan directory\n",
    "        scan_dir = op.join(proc_dir, row[\"subj\"], f\"{scan_type}_{row['scan_date']}\")\n",
    "\n",
    "        # Make sure the scan directory exists\n",
    "        if not op.isdir(scan_dir):\n",
    "            raise FileNotFoundError(scan_dir)\n",
    "\n",
    "        # Create the scan QC directory\n",
    "        scan_qc_dir = op.join(scan_dir, \"qc\")\n",
    "        os.makedirs(scan_qc_dir, exist_ok=True)\n",
    "\n",
    "        # Save the QC eval\n",
    "        scan_tag = uts.get_scan_tag(scan_dir)\n",
    "        qc_eval_file = op.join(scan_qc_dir, f\"{scan_tag}_qc-eval_{timestamp}.csv\")\n",
    "        qc_eval = pd.DataFrame(row).reset_index()\n",
    "        qc_eval.columns = [\"field\", \"value\"]\n",
    "        if overwrite or not op.isfile(qc_eval_file):\n",
    "            qc_eval.to_csv(qc_eval_file, index=False)\n",
    "            # print(f\"Saved {qc_eval_file}\")"
   ]
  },
  {
   "cell_type": "code",
   "execution_count": 107,
   "metadata": {},
   "outputs": [
    {
     "data": {
      "text/html": [
       "<div>\n",
       "<style scoped>\n",
       "    .dataframe tbody tr th:only-of-type {\n",
       "        vertical-align: middle;\n",
       "    }\n",
       "\n",
       "    .dataframe tbody tr th {\n",
       "        vertical-align: top;\n",
       "    }\n",
       "\n",
       "    .dataframe thead th {\n",
       "        text-align: right;\n",
       "    }\n",
       "</style>\n",
       "<table border=\"1\" class=\"dataframe\">\n",
       "  <thead>\n",
       "    <tr style=\"text-align: right;\">\n",
       "      <th></th>\n",
       "      <th>index</th>\n",
       "      <th>958</th>\n",
       "    </tr>\n",
       "  </thead>\n",
       "  <tbody>\n",
       "    <tr>\n",
       "      <th>0</th>\n",
       "      <td>subj</td>\n",
       "      <td>LDS9410679</td>\n",
       "    </tr>\n",
       "    <tr>\n",
       "      <th>1</th>\n",
       "      <td>scan_date</td>\n",
       "      <td>2023-10-11</td>\n",
       "    </tr>\n",
       "    <tr>\n",
       "      <th>2</th>\n",
       "      <td>rater</td>\n",
       "      <td>Stefania</td>\n",
       "    </tr>\n",
       "    <tr>\n",
       "      <th>3</th>\n",
       "      <td>native_pet_ok</td>\n",
       "      <td>1</td>\n",
       "    </tr>\n",
       "    <tr>\n",
       "      <th>4</th>\n",
       "      <td>pet_to_mri_coreg_ok</td>\n",
       "      <td>1</td>\n",
       "    </tr>\n",
       "    <tr>\n",
       "      <th>5</th>\n",
       "      <td>infcblgm_mask_ok</td>\n",
       "      <td>1</td>\n",
       "    </tr>\n",
       "    <tr>\n",
       "      <th>6</th>\n",
       "      <td>erodedwm_mask_ok</td>\n",
       "      <td>1</td>\n",
       "    </tr>\n",
       "    <tr>\n",
       "      <th>7</th>\n",
       "      <td>affine_pet_ok</td>\n",
       "      <td>1</td>\n",
       "    </tr>\n",
       "    <tr>\n",
       "      <th>8</th>\n",
       "      <td>warped_pet_ok</td>\n",
       "      <td>1</td>\n",
       "    </tr>\n",
       "    <tr>\n",
       "      <th>9</th>\n",
       "      <td>notes</td>\n",
       "      <td>NaN</td>\n",
       "    </tr>\n",
       "  </tbody>\n",
       "</table>\n",
       "</div>"
      ],
      "text/plain": [
       "                 index         958\n",
       "0                 subj  LDS9410679\n",
       "1            scan_date  2023-10-11\n",
       "2                rater    Stefania\n",
       "3        native_pet_ok           1\n",
       "4  pet_to_mri_coreg_ok           1\n",
       "5     infcblgm_mask_ok           1\n",
       "6     erodedwm_mask_ok           1\n",
       "7        affine_pet_ok           1\n",
       "8        warped_pet_ok           1\n",
       "9                notes         NaN"
      ]
     },
     "execution_count": 107,
     "metadata": {},
     "output_type": "execute_result"
    }
   ],
   "source": [
    "pd.DataFrame(row).reset_index()"
   ]
  },
  {
   "cell_type": "code",
   "execution_count": 58,
   "metadata": {},
   "outputs": [],
   "source": [
    "subj = row[\"subj\"]\n",
    "scan_date = row[\"scan_date\"]"
   ]
  },
  {
   "cell_type": "code",
   "execution_count": 82,
   "metadata": {},
   "outputs": [
    {
     "data": {
      "text/html": [
       "<div>\n",
       "<style scoped>\n",
       "    .dataframe tbody tr th:only-of-type {\n",
       "        vertical-align: middle;\n",
       "    }\n",
       "\n",
       "    .dataframe tbody tr th {\n",
       "        vertical-align: top;\n",
       "    }\n",
       "\n",
       "    .dataframe thead th {\n",
       "        text-align: right;\n",
       "    }\n",
       "</style>\n",
       "<table border=\"1\" class=\"dataframe\">\n",
       "  <thead>\n",
       "    <tr style=\"text-align: right;\">\n",
       "      <th></th>\n",
       "      <th>field</th>\n",
       "      <th>value</th>\n",
       "    </tr>\n",
       "  </thead>\n",
       "  <tbody>\n",
       "    <tr>\n",
       "      <th>0</th>\n",
       "      <td>subj</td>\n",
       "      <td>LDS9410679</td>\n",
       "    </tr>\n",
       "    <tr>\n",
       "      <th>1</th>\n",
       "      <td>scan_date</td>\n",
       "      <td>2023-10-11</td>\n",
       "    </tr>\n",
       "    <tr>\n",
       "      <th>2</th>\n",
       "      <td>rater</td>\n",
       "      <td>NaN</td>\n",
       "    </tr>\n",
       "    <tr>\n",
       "      <th>3</th>\n",
       "      <td>native_pet_ok</td>\n",
       "      <td>NaN</td>\n",
       "    </tr>\n",
       "    <tr>\n",
       "      <th>4</th>\n",
       "      <td>pet_to_mri_coreg_ok</td>\n",
       "      <td>NaN</td>\n",
       "    </tr>\n",
       "    <tr>\n",
       "      <th>5</th>\n",
       "      <td>infcblgm_mask_ok</td>\n",
       "      <td>NaN</td>\n",
       "    </tr>\n",
       "    <tr>\n",
       "      <th>6</th>\n",
       "      <td>erodedwm_mask_ok</td>\n",
       "      <td>NaN</td>\n",
       "    </tr>\n",
       "    <tr>\n",
       "      <th>7</th>\n",
       "      <td>affine_pet_ok</td>\n",
       "      <td>NaN</td>\n",
       "    </tr>\n",
       "    <tr>\n",
       "      <th>8</th>\n",
       "      <td>warped_pet_ok</td>\n",
       "      <td>NaN</td>\n",
       "    </tr>\n",
       "    <tr>\n",
       "      <th>9</th>\n",
       "      <td>notes</td>\n",
       "      <td>NaN</td>\n",
       "    </tr>\n",
       "  </tbody>\n",
       "</table>\n",
       "</div>"
      ],
      "text/plain": [
       "                 field       value\n",
       "0                 subj  LDS9410679\n",
       "1            scan_date  2023-10-11\n",
       "2                rater         NaN\n",
       "3        native_pet_ok         NaN\n",
       "4  pet_to_mri_coreg_ok         NaN\n",
       "5     infcblgm_mask_ok         NaN\n",
       "6     erodedwm_mask_ok         NaN\n",
       "7        affine_pet_ok         NaN\n",
       "8        warped_pet_ok         NaN\n",
       "9                notes         NaN"
      ]
     },
     "execution_count": 82,
     "metadata": {},
     "output_type": "execute_result"
    }
   ],
   "source": [
    "columns = create_qc_evals.get_qc_eval_fields(scan_type)\n",
    "[subj, scan_date] + [np.nan] * (len(columns) - 2)\n",
    "pd.Series(\n",
    "    index=pd.Index(columns, name=\"field\"),\n",
    "    data=[subj, scan_date] + [np.nan] * (len(columns) - 2),\n",
    "    name=\"value\",\n",
    ").reset_index()\n",
    "# pd.DataFrame(data=[subj, scan_date] + [np.nan] * (len(columns) - 2), columns=columns)"
   ]
  },
  {
   "cell_type": "code",
   "execution_count": 176,
   "metadata": {},
   "outputs": [
    {
     "data": {
      "text/html": [
       "<div>\n",
       "<style scoped>\n",
       "    .dataframe tbody tr th:only-of-type {\n",
       "        vertical-align: middle;\n",
       "    }\n",
       "\n",
       "    .dataframe tbody tr th {\n",
       "        vertical-align: top;\n",
       "    }\n",
       "\n",
       "    .dataframe thead th {\n",
       "        text-align: right;\n",
       "    }\n",
       "</style>\n",
       "<table border=\"1\" class=\"dataframe\">\n",
       "  <thead>\n",
       "    <tr style=\"text-align: right;\">\n",
       "      <th>field</th>\n",
       "      <th>subj</th>\n",
       "      <th>scan_date</th>\n",
       "      <th>rater</th>\n",
       "      <th>native_pet_ok</th>\n",
       "      <th>pet_to_mri_coreg_ok</th>\n",
       "      <th>infcblgm_mask_ok</th>\n",
       "      <th>erodedwm_mask_ok</th>\n",
       "      <th>affine_pet_ok</th>\n",
       "      <th>warped_pet_ok</th>\n",
       "      <th>notes</th>\n",
       "    </tr>\n",
       "  </thead>\n",
       "  <tbody>\n",
       "    <tr>\n",
       "      <th>0</th>\n",
       "      <td>LDS9410679</td>\n",
       "      <td>2023-10-11</td>\n",
       "      <td>Stefania</td>\n",
       "      <td>1</td>\n",
       "      <td>1</td>\n",
       "      <td>1</td>\n",
       "      <td>1</td>\n",
       "      <td>1</td>\n",
       "      <td>1</td>\n",
       "      <td>NaN</td>\n",
       "    </tr>\n",
       "    <tr>\n",
       "      <th>1</th>\n",
       "      <td>LDS9410679</td>\n",
       "      <td>2023-10-11</td>\n",
       "      <td>Stefania</td>\n",
       "      <td>1</td>\n",
       "      <td>1</td>\n",
       "      <td>1</td>\n",
       "      <td>1</td>\n",
       "      <td>1</td>\n",
       "      <td>1</td>\n",
       "      <td>NaN</td>\n",
       "    </tr>\n",
       "  </tbody>\n",
       "</table>\n",
       "</div>"
      ],
      "text/plain": [
       "field        subj   scan_date     rater native_pet_ok pet_to_mri_coreg_ok  \\\n",
       "0      LDS9410679  2023-10-11  Stefania             1                   1   \n",
       "1      LDS9410679  2023-10-11  Stefania             1                   1   \n",
       "\n",
       "field infcblgm_mask_ok erodedwm_mask_ok affine_pet_ok warped_pet_ok notes  \n",
       "0                    1                1             1             1   NaN  \n",
       "1                    1                1             1             1   NaN  "
      ]
     },
     "execution_count": 176,
     "metadata": {},
     "output_type": "execute_result"
    }
   ],
   "source": [
    "pd.concat(\n",
    "    [\n",
    "        pd.read_csv(qc_eval_file).set_index(\"field\").T,\n",
    "        pd.read_csv(qc_eval_file).set_index(\"field\").T,\n",
    "    ],\n",
    "    ignore_index=True,\n",
    ")"
   ]
  },
  {
   "cell_type": "code",
   "execution_count": 90,
   "metadata": {},
   "outputs": [
    {
     "name": "stdout",
     "output_type": "stream",
     "text": [
      "/mnt/coredata/processing/leads/data/processed/LDS9410679/FTP_2023-10-11\n",
      "Saved /mnt/coredata/processing/leads/data/processed/LDS9410679/FTP_2023-10-11/qc/LDS9410679_FTP_2023-10-11_qc-eval_2024-08-15-11-25-55.csv\n"
     ]
    }
   ],
   "source": [
    "qc_eval_file = create_qc_evals.create_qc_eval_file(scan_dir)\n",
    "print(qc_eval_file)"
   ]
  },
  {
   "cell_type": "code",
   "execution_count": 146,
   "metadata": {},
   "outputs": [
    {
     "name": "stdout",
     "output_type": "stream",
     "text": [
      "/mnt/coredata/processing/leads/data/processed/LDS9410679/FTP_2023-10-11/qc/LDS9410679_FTP_2023-10-11_qc-eval_2024-07-02-00-00-00.csv\n"
     ]
    }
   ],
   "source": [
    "qc_eval_file = create_qc_evals.get_qc_eval_file(scan_dir)\n",
    "print(qc_eval_file)"
   ]
  },
  {
   "cell_type": "code",
   "execution_count": 122,
   "metadata": {},
   "outputs": [
    {
     "name": "stdout",
     "output_type": "stream",
     "text": [
      "subj: LDS9410679\n",
      "scan_date: 2023-10-11\n",
      "rater: Stefania\n",
      "native_pet_ok: 1\n",
      "pet_to_mri_coreg_ok: 1\n",
      "infcblgm_mask_ok: 1\n",
      "erodedwm_mask_ok: 1\n",
      "affine_pet_ok: 1\n",
      "warped_pet_ok: 1\n",
      "notes: nan\n"
     ]
    }
   ],
   "source": [
    "qc_eval = pd.read_csv(qc_eval_file).set_index(\"field\")[\"value\"]\n",
    "for key, val in qc_eval.items():\n",
    "    print(f\"{key}: {val}\")"
   ]
  },
  {
   "cell_type": "code",
   "execution_count": 156,
   "metadata": {},
   "outputs": [
    {
     "data": {
      "text/plain": [
       "<module 'create_qc_evals' from '/mnt/coredata/processing/leads/code/qc/create_qc_evals.py'>"
      ]
     },
     "execution_count": 156,
     "metadata": {},
     "output_type": "execute_result"
    }
   ],
   "source": [
    "reload(create_qc_evals)"
   ]
  },
  {
   "cell_type": "code",
   "execution_count": 177,
   "metadata": {},
   "outputs": [
    {
     "name": "stdout",
     "output_type": "stream",
     "text": [
      "Saved /mnt/coredata/processing/leads/metadata/qc/processed_MRI-T1_qc-evals_2024-08-15-12-14-29.csv\n",
      "Saved /mnt/coredata/processing/leads/metadata/qc/processed_FBB_qc-evals_2024-08-15-12-14-29.csv\n",
      "Saved /mnt/coredata/processing/leads/metadata/qc/processed_FDG_qc-evals_2024-08-15-12-14-29.csv\n",
      "Saved /mnt/coredata/processing/leads/metadata/qc/processed_FTP_qc-evals_2024-08-15-12-14-29.csv\n"
     ]
    }
   ],
   "source": [
    "proj_dir = \"/mnt/coredata/processing/leads\"\n",
    "qc_evals = create_qc_evals.merge_completed_qc_eval_files(proj_dir)"
   ]
  },
  {
   "cell_type": "code",
   "execution_count": 187,
   "metadata": {},
   "outputs": [
    {
     "name": "stderr",
     "output_type": "stream",
     "text": [
      "Traceback (most recent call last):\n",
      "  File \"/mnt/coredata/processing/leads/code/qc/create_qc_evals.py\", line 360, in <module>\n",
      "    create_qc_eval_file(scan_dir)\n",
      "  File \"/mnt/coredata/processing/leads/code/qc/create_qc_evals.py\", line 101, in create_qc_eval_file\n",
      "    os.makedirs(qc_dir)\n",
      "  File \"<frozen os>\", line 225, in makedirs\n",
      "PermissionError: [Errno 13] Permission denied: '/mnt/coredata/processing/leads/data/processed/LDS0370646/MRI-T1_2024-08-12/qc'\n",
      "Traceback (most recent call last):\n",
      "  File \"/mnt/coredata/processing/leads/code/qc/create_qc_evals.py\", line 360, in <module>\n",
      "    create_qc_eval_file(scan_dir)\n",
      "  File \"/mnt/coredata/processing/leads/code/qc/create_qc_evals.py\", line 101, in create_qc_eval_file\n",
      "    os.makedirs(qc_dir)\n",
      "  File \"<frozen os>\", line 225, in makedirs\n",
      "PermissionError: [Errno 13] Permission denied: '/mnt/coredata/processing/leads/data/processed/LDS3600350/FBB_2024-08-06/qc'\n",
      "Traceback (most recent call last):\n",
      "  File \"/mnt/coredata/processing/leads/code/qc/create_qc_evals.py\", line 360, in <module>\n",
      "    create_qc_eval_file(scan_dir)\n",
      "  File \"/mnt/coredata/processing/leads/code/qc/create_qc_evals.py\", line 101, in create_qc_eval_file\n",
      "    os.makedirs(qc_dir)\n",
      "  File \"<frozen os>\", line 225, in makedirs\n",
      "PermissionError: [Errno 13] Permission denied: '/mnt/coredata/processing/leads/data/processed/LDS0820635/FDG_2023-11-28/qc'\n",
      "Traceback (most recent call last):\n",
      "  File \"/mnt/coredata/processing/leads/code/qc/create_qc_evals.py\", line 360, in <module>\n",
      "    create_qc_eval_file(scan_dir)\n",
      "  File \"/mnt/coredata/processing/leads/code/qc/create_qc_evals.py\", line 101, in create_qc_eval_file\n",
      "    os.makedirs(qc_dir)\n",
      "  File \"<frozen os>\", line 225, in makedirs\n",
      "PermissionError: [Errno 13] Permission denied: '/mnt/coredata/processing/leads/data/processed/LDS9410298/FTP_2024-08-02/qc'\n"
     ]
    }
   ],
   "source": [
    "for scan_type in incomplete_qc_scans:\n",
    "    for scan_dir in incomplete_qc_scans[scan_type]:\n",
    "        scan_qc_dir = op.join(scan_dir, \"qc\")\n",
    "        if not op.isdir(scan_qc_dir):\n",
    "            cmd = f\"/mnt/coredata/processing/leads/code/qc/create_qc_evals.py create -s {scan_dir}\"\n",
    "            subprocess.run(cmd, shell=True)\n",
    "        else:\n",
    "            continue"
   ]
  },
  {
   "cell_type": "code",
   "execution_count": 188,
   "metadata": {},
   "outputs": [
    {
     "name": "stdout",
     "output_type": "stream",
     "text": [
      "Processing complete and QC needed for the following 31 MRI-T1 scans:\n",
      "  /mnt/coredata/processing/leads/data/processed/LDS0100330/MRI-T1_2024-06-07\n",
      "  /mnt/coredata/processing/leads/data/processed/LDS0360453/MRI-T1_2024-06-13\n",
      "  /mnt/coredata/processing/leads/data/processed/LDS0370495/MRI-T1_2024-07-23\n",
      "  /mnt/coredata/processing/leads/data/processed/LDS0730558/MRI-T1_2024-01-25\n",
      "  /mnt/coredata/processing/leads/data/processed/LDS0220522/MRI-T1_2024-02-07\n",
      "  /mnt/coredata/processing/leads/data/processed/LDS9410608/MRI-T1_2024-02-09\n",
      "  /mnt/coredata/processing/leads/data/processed/LDS0370304/MRI-T1_2024-06-10\n",
      "  /mnt/coredata/processing/leads/data/processed/LDS1770634/MRI-T1_2024-07-10\n",
      "  /mnt/coredata/processing/leads/data/processed/LDS0730628/MRI-T1_2024-07-25\n",
      "  /mnt/coredata/processing/leads/data/processed/LDS0990407/MRI-T1_2024-07-18\n",
      "  /mnt/coredata/processing/leads/data/processed/LDS0730625/MRI-T1_2024-07-08\n",
      "  /mnt/coredata/processing/leads/data/processed/LDS0350614/MRI-T1_2024-06-24\n",
      "  /mnt/coredata/processing/leads/data/processed/LDS0370475/MRI-T1_2024-06-24\n",
      "  /mnt/coredata/processing/leads/data/processed/LDS0730636/MRI-T1_2024-08-01\n",
      "  /mnt/coredata/processing/leads/data/processed/LDS9410391/MRI-T1_2024-07-01\n",
      "  /mnt/coredata/processing/leads/data/processed/LDS0360626/MRI-T1_2024-07-12\n",
      "  /mnt/coredata/processing/leads/data/processed/LDS0360584/MRI-T1_2024-06-18\n",
      "  /mnt/coredata/processing/leads/data/processed/LDS0220692/MRI-T1_2024-08-07\n",
      "  /mnt/coredata/processing/leads/data/processed/LDS0990408/MRI-T1_2024-06-27\n",
      "  /mnt/coredata/processing/leads/data/processed/LDS0220502/MRI-T1_2024-07-09\n",
      "  /mnt/coredata/processing/leads/data/processed/LDS0100352/MRI-T1_2024-06-21\n",
      "  /mnt/coredata/processing/leads/data/processed/LDS0220290/MRI-T1_2024-06-26\n",
      "  /mnt/coredata/processing/leads/data/processed/LDS0370689/MRI-T1_2024-07-03\n",
      "  /mnt/coredata/processing/leads/data/processed/LDS0370646/MRI-T1_2024-08-12\n",
      "  /mnt/coredata/processing/leads/data/processed/LDS0370609/MRI-T1_2024-06-11\n",
      "  /mnt/coredata/processing/leads/data/processed/LDS3600350/MRI-T1_2024-07-24\n",
      "  /mnt/coredata/processing/leads/data/processed/LDS0730478/MRI-T1_2024-07-30\n",
      "  /mnt/coredata/processing/leads/data/processed/LDS0370504/MRI-T1_2024-07-02\n",
      "  /mnt/coredata/processing/leads/data/processed/LDS0370642/MRI-T1_2024-06-27\n",
      "  /mnt/coredata/processing/leads/data/processed/LDS0070496/MRI-T1_2024-06-25\n",
      "  /mnt/coredata/processing/leads/data/processed/LDS3600484/MRI-T1_2024-07-10\n",
      "\n",
      "Processing complete and QC needed for the following 30 FBB scans:\n",
      "  /mnt/coredata/processing/leads/data/processed/LDS0100330/FBB_2024-06-06\n",
      "  /mnt/coredata/processing/leads/data/processed/LDS0360453/FBB_2024-06-13\n",
      "  /mnt/coredata/processing/leads/data/processed/LDS0370495/FBB_2024-07-23\n",
      "  /mnt/coredata/processing/leads/data/processed/LDS3600602/FBB_2024-06-11\n",
      "  /mnt/coredata/processing/leads/data/processed/LDS9410367/FBB_2024-06-05\n",
      "  /mnt/coredata/processing/leads/data/processed/LDS1770688/FBB_2024-05-31\n",
      "  /mnt/coredata/processing/leads/data/processed/LDS0370304/FBB_2024-07-18\n",
      "  /mnt/coredata/processing/leads/data/processed/LDS3600618/FBB_2024-07-11\n",
      "  /mnt/coredata/processing/leads/data/processed/LDS1770634/FBB_2024-07-11\n",
      "  /mnt/coredata/processing/leads/data/processed/LDS0180552/FBB_2024-07-10\n",
      "  /mnt/coredata/processing/leads/data/processed/LDS0730628/FBB_2024-08-07\n",
      "  /mnt/coredata/processing/leads/data/processed/LDS1770686/FBB_2024-06-11\n",
      "  /mnt/coredata/processing/leads/data/processed/LDS0730625/FBB_2024-07-09\n",
      "  /mnt/coredata/processing/leads/data/processed/LDS0350614/FBB_2024-06-25\n",
      "  /mnt/coredata/processing/leads/data/processed/LDS9410391/FBB_2024-07-11\n",
      "  /mnt/coredata/processing/leads/data/processed/LDS0360626/FBB_2024-07-12\n",
      "  /mnt/coredata/processing/leads/data/processed/LDS0360584/FBB_2024-06-18\n",
      "  /mnt/coredata/processing/leads/data/processed/LDS0220502/FBB_2024-06-13\n",
      "  /mnt/coredata/processing/leads/data/processed/LDS1770580/FBB_2024-06-07\n",
      "  /mnt/coredata/processing/leads/data/processed/LDS0100352/FBB_2024-06-20\n",
      "  /mnt/coredata/processing/leads/data/processed/LDS0220290/FBB_2024-06-26\n",
      "  /mnt/coredata/processing/leads/data/processed/LDS0370451/FBB_2024-03-27\n",
      "  /mnt/coredata/processing/leads/data/processed/LDS0180605/FBB_2024-05-29\n",
      "  /mnt/coredata/processing/leads/data/processed/LDS0370689/FBB_2024-07-17\n",
      "  /mnt/coredata/processing/leads/data/processed/LDS3600599/FBB_2024-07-23\n",
      "  /mnt/coredata/processing/leads/data/processed/LDS0370609/FBB_2024-06-13\n",
      "  /mnt/coredata/processing/leads/data/processed/LDS3600350/FBB_2024-08-06\n",
      "  /mnt/coredata/processing/leads/data/processed/LDS1770687/FBB_2024-06-27\n",
      "  /mnt/coredata/processing/leads/data/processed/LDS0070496/FBB_2024-07-23\n",
      "  /mnt/coredata/processing/leads/data/processed/LDS9410298/FBB_2024-07-16\n",
      "\n",
      "Processing complete and QC needed for the following 33 FTP scans:\n",
      "  /mnt/coredata/processing/leads/data/processed/LDS0100330/FTP_2024-06-07\n",
      "  /mnt/coredata/processing/leads/data/processed/LDS0360453/FTP_2024-06-26\n",
      "  /mnt/coredata/processing/leads/data/processed/LDS0370495/FTP_2024-07-22\n",
      "  /mnt/coredata/processing/leads/data/processed/LDS1770688/FTP_2024-06-04\n",
      "  /mnt/coredata/processing/leads/data/processed/LDS0730474/FTP_2024-06-10\n",
      "  /mnt/coredata/processing/leads/data/processed/LDS0370304/FTP_2024-06-03\n",
      "  /mnt/coredata/processing/leads/data/processed/LDS3600618/FTP_2024-06-18\n",
      "  /mnt/coredata/processing/leads/data/processed/LDS1770634/FTP_2024-07-16\n",
      "  /mnt/coredata/processing/leads/data/processed/LDS0180552/FTP_2024-07-09\n",
      "  /mnt/coredata/processing/leads/data/processed/LDS0730628/FTP_2024-07-25\n",
      "  /mnt/coredata/processing/leads/data/processed/LDS0990407/FTP_2024-07-18\n",
      "  /mnt/coredata/processing/leads/data/processed/LDS0730625/FTP_2024-07-10\n",
      "  /mnt/coredata/processing/leads/data/processed/LDS0350614/FTP_2024-06-27\n",
      "  /mnt/coredata/processing/leads/data/processed/LDS0350597/FTP_2024-05-21\n",
      "  /mnt/coredata/processing/leads/data/processed/LDS1770631/FTP_2024-07-02\n",
      "  /mnt/coredata/processing/leads/data/processed/LDS0370333/FTP_2024-06-03\n",
      "  /mnt/coredata/processing/leads/data/processed/LDS0360626/FTP_2024-07-17\n",
      "  /mnt/coredata/processing/leads/data/processed/LDS0220582/FTP_2024-06-27\n",
      "  /mnt/coredata/processing/leads/data/processed/LDS0360584/FTP_2024-06-19\n",
      "  /mnt/coredata/processing/leads/data/processed/LDS0990408/FTP_2024-06-27\n",
      "  /mnt/coredata/processing/leads/data/processed/LDS0220502/FTP_2024-07-09\n",
      "  /mnt/coredata/processing/leads/data/processed/LDS1770580/FTP_2024-06-18\n",
      "  /mnt/coredata/processing/leads/data/processed/LDS0100352/FTP_2024-06-21\n",
      "  /mnt/coredata/processing/leads/data/processed/LDS0220290/FTP_2024-07-17\n",
      "  /mnt/coredata/processing/leads/data/processed/LDS0180605/FTP_2024-05-28\n",
      "  /mnt/coredata/processing/leads/data/processed/LDS0730588/FTP_2024-06-18\n",
      "  /mnt/coredata/processing/leads/data/processed/LDS1770570/FTP_2024-06-11\n",
      "  /mnt/coredata/processing/leads/data/processed/LDS0370609/FTP_2024-06-24\n",
      "  /mnt/coredata/processing/leads/data/processed/LDS0370642/FTP_2024-07-25\n",
      "  /mnt/coredata/processing/leads/data/processed/LDS1770687/FTP_2024-06-25\n",
      "  /mnt/coredata/processing/leads/data/processed/LDS0070496/FTP_2024-06-26\n",
      "  /mnt/coredata/processing/leads/data/processed/LDS9410395/FTP_2024-03-20\n",
      "  /mnt/coredata/processing/leads/data/processed/LDS9410298/FTP_2024-08-02\n",
      "\n"
     ]
    }
   ],
   "source": [
    "incomplete_qc_scans = create_qc_evals.find_scans_with_incomplete_qc(proj_dir)"
   ]
  },
  {
   "cell_type": "code",
   "execution_count": 200,
   "metadata": {},
   "outputs": [
    {
     "data": {
      "text/plain": [
       "['/mnt/coredata/processing/leads/data/processed/LDS0370451/FBB_2024-03-27',\n",
       " '/mnt/coredata/processing/leads/data/processed/LDS0180605/FBB_2024-05-29',\n",
       " '/mnt/coredata/processing/leads/data/processed/LDS1770688/FBB_2024-05-31',\n",
       " '/mnt/coredata/processing/leads/data/processed/LDS9410367/FBB_2024-06-05',\n",
       " '/mnt/coredata/processing/leads/data/processed/LDS0100330/FBB_2024-06-06',\n",
       " '/mnt/coredata/processing/leads/data/processed/LDS1770580/FBB_2024-06-07',\n",
       " '/mnt/coredata/processing/leads/data/processed/LDS1770686/FBB_2024-06-11',\n",
       " '/mnt/coredata/processing/leads/data/processed/LDS3600602/FBB_2024-06-11',\n",
       " '/mnt/coredata/processing/leads/data/processed/LDS0370609/FBB_2024-06-13',\n",
       " '/mnt/coredata/processing/leads/data/processed/LDS0360453/FBB_2024-06-13',\n",
       " '/mnt/coredata/processing/leads/data/processed/LDS0220502/FBB_2024-06-13',\n",
       " '/mnt/coredata/processing/leads/data/processed/LDS0360584/FBB_2024-06-18',\n",
       " '/mnt/coredata/processing/leads/data/processed/LDS0100352/FBB_2024-06-20',\n",
       " '/mnt/coredata/processing/leads/data/processed/LDS0350614/FBB_2024-06-25',\n",
       " '/mnt/coredata/processing/leads/data/processed/LDS0220290/FBB_2024-06-26',\n",
       " '/mnt/coredata/processing/leads/data/processed/LDS1770687/FBB_2024-06-27',\n",
       " '/mnt/coredata/processing/leads/data/processed/LDS0730625/FBB_2024-07-09',\n",
       " '/mnt/coredata/processing/leads/data/processed/LDS0180552/FBB_2024-07-10',\n",
       " '/mnt/coredata/processing/leads/data/processed/LDS9410391/FBB_2024-07-11',\n",
       " '/mnt/coredata/processing/leads/data/processed/LDS1770634/FBB_2024-07-11',\n",
       " '/mnt/coredata/processing/leads/data/processed/LDS3600618/FBB_2024-07-11',\n",
       " '/mnt/coredata/processing/leads/data/processed/LDS0360626/FBB_2024-07-12',\n",
       " '/mnt/coredata/processing/leads/data/processed/LDS9410298/FBB_2024-07-16',\n",
       " '/mnt/coredata/processing/leads/data/processed/LDS0370689/FBB_2024-07-17',\n",
       " '/mnt/coredata/processing/leads/data/processed/LDS0370304/FBB_2024-07-18',\n",
       " '/mnt/coredata/processing/leads/data/processed/LDS0070496/FBB_2024-07-23',\n",
       " '/mnt/coredata/processing/leads/data/processed/LDS3600599/FBB_2024-07-23',\n",
       " '/mnt/coredata/processing/leads/data/processed/LDS0370495/FBB_2024-07-23',\n",
       " '/mnt/coredata/processing/leads/data/processed/LDS3600350/FBB_2024-08-06',\n",
       " '/mnt/coredata/processing/leads/data/processed/LDS0730628/FBB_2024-08-07']"
      ]
     },
     "execution_count": 200,
     "metadata": {},
     "output_type": "execute_result"
    }
   ],
   "source": [
    "idx = np.argsort([op.basename(d).split(\"_\")[1] for d in incomplete_qc_scans[\"FBB\"]])\n",
    "np.array(incomplete_qc_scans[\"FBB\"])[idx].tolist()"
   ]
  }
 ],
 "metadata": {
  "kernelspec": {
   "display_name": "nipy311",
   "language": "python",
   "name": "python3"
  },
  "language_info": {
   "codemirror_mode": {
    "name": "ipython",
    "version": 3
   },
   "file_extension": ".py",
   "mimetype": "text/x-python",
   "name": "python",
   "nbconvert_exporter": "python",
   "pygments_lexer": "ipython3",
   "version": "3.11.8"
  }
 },
 "nbformat": 4,
 "nbformat_minor": 2
}
